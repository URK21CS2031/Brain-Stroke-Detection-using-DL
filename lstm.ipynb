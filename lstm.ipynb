{
 "cells": [
  {
   "cell_type": "code",
   "execution_count": 1,
   "id": "71443ac8",
   "metadata": {
    "execution": {
     "iopub.execute_input": "2023-10-15T08:46:25.857652Z",
     "iopub.status.busy": "2023-10-15T08:46:25.857172Z",
     "iopub.status.idle": "2023-10-15T08:46:37.869617Z",
     "shell.execute_reply": "2023-10-15T08:46:37.868324Z"
    },
    "papermill": {
     "duration": 12.024598,
     "end_time": "2023-10-15T08:46:37.872169",
     "exception": false,
     "start_time": "2023-10-15T08:46:25.847571",
     "status": "completed"
    },
    "tags": []
   },
   "outputs": [],
   "source": [
    "\n",
    "\n",
    "import os\n",
    "import pandas as pd\n",
    "import numpy as np\n",
    "import matplotlib.pyplot as plt\n",
    "%matplotlib inline\n",
    "from sklearn.metrics import classification_report , confusion_matrix , accuracy_score\n",
    "from sklearn.model_selection import train_test_split\n",
    "\n",
    "import cv2\n",
    "#from google.colab.patches import cv2_imshow\n",
    "from PIL import Image \n",
    "import tensorflow as tf\n",
    "from tensorflow import keras\n",
    "from keras import Sequential\n",
    "from keras.layers import Input, Dense,Conv2D , MaxPooling2D, Flatten,BatchNormalization,Dropout\n",
    "from tensorflow.keras.preprocessing import image_dataset_from_directory\n"
   ]
  },
  {
   "cell_type": "code",
   "execution_count": 4,
   "id": "b00b4dec",
   "metadata": {
    "execution": {
     "iopub.execute_input": "2023-10-15T08:46:37.891429Z",
     "iopub.status.busy": "2023-10-15T08:46:37.890746Z",
     "iopub.status.idle": "2023-10-15T08:46:37.896666Z",
     "shell.execute_reply": "2023-10-15T08:46:37.895419Z"
    },
    "papermill": {
     "duration": 0.018571,
     "end_time": "2023-10-15T08:46:37.899348",
     "exception": false,
     "start_time": "2023-10-15T08:46:37.880777",
     "status": "completed"
    },
    "tags": []
   },
   "outputs": [],
   "source": [
    "normal_path = \"C:/Users/DELL/Desktop/brain stroke/archive (4)/Brain_Data_Organised/Normal\"\n",
    "stroke_path = \"C:/Users/DELL/Desktop/brain stroke/archive (4)/Brain_Data_Organised/Stroke\""
   ]
  },
  {
   "cell_type": "code",
   "execution_count": 5,
   "id": "48f1f4e6",
   "metadata": {
    "execution": {
     "iopub.execute_input": "2023-10-15T08:46:37.918917Z",
     "iopub.status.busy": "2023-10-15T08:46:37.918531Z",
     "iopub.status.idle": "2023-10-15T08:46:37.931462Z",
     "shell.execute_reply": "2023-10-15T08:46:37.930281Z"
    },
    "papermill": {
     "duration": 0.025189,
     "end_time": "2023-10-15T08:46:37.933775",
     "exception": false,
     "start_time": "2023-10-15T08:46:37.908586",
     "status": "completed"
    },
    "tags": []
   },
   "outputs": [],
   "source": [
    "normal_folder = os.listdir(normal_path)\n",
    "stroke_folder = os.listdir(stroke_path)"
   ]
  },
  {
   "cell_type": "code",
   "execution_count": 6,
   "id": "015988dc",
   "metadata": {
    "execution": {
     "iopub.execute_input": "2023-10-15T08:46:37.952254Z",
     "iopub.status.busy": "2023-10-15T08:46:37.951840Z",
     "iopub.status.idle": "2023-10-15T08:46:37.956338Z",
     "shell.execute_reply": "2023-10-15T08:46:37.955399Z"
    },
    "papermill": {
     "duration": 0.016737,
     "end_time": "2023-10-15T08:46:37.958830",
     "exception": false,
     "start_time": "2023-10-15T08:46:37.942093",
     "status": "completed"
    },
    "tags": []
   },
   "outputs": [
    {
     "name": "stdout",
     "output_type": "stream",
     "text": [
      "Images in Normal Data: 1551\n",
      "Images in Stroke Data: 950\n"
     ]
    }
   ],
   "source": [
    "print(\"Images in Normal Data:\",len(normal_folder))\n",
    "print(\"Images in Stroke Data:\",len(stroke_folder))"
   ]
  },
  {
   "cell_type": "code",
   "execution_count": 7,
   "id": "d8fcbc28",
   "metadata": {
    "execution": {
     "iopub.execute_input": "2023-10-15T08:46:37.978248Z",
     "iopub.status.busy": "2023-10-15T08:46:37.977592Z",
     "iopub.status.idle": "2023-10-15T08:46:56.275435Z",
     "shell.execute_reply": "2023-10-15T08:46:56.274010Z"
    },
    "papermill": {
     "duration": 18.31066,
     "end_time": "2023-10-15T08:46:56.278118",
     "exception": false,
     "start_time": "2023-10-15T08:46:37.967458",
     "status": "completed"
    },
    "tags": []
   },
   "outputs": [],
   "source": [
    "normal_path = \"C:/Users/DELL/Desktop/brain stroke/archive (4)/Brain_Data_Organised/Normal\"\n",
    "stroke_path = \"C:/Users/DELL/Desktop/brain stroke/archive (4)/Brain_Data_Organised/Stroke\"\n",
    "\n",
    "data = []\n",
    "\n",
    "for img_file in normal_folder:\n",
    "    image = Image.open(\"C:/Users/DELL/Desktop/brain stroke/archive (4)/Brain_Data_Organised/Normal/\" + img_file)\n",
    "    image = image.resize((224,224))\n",
    "    image = image.convert('RGB')\n",
    "    image = np.array(image)\n",
    "    data.append(image)\n",
    "    \n",
    "for img_file in stroke_folder:\n",
    "    image = Image.open(\"C:/Users/DELL/Desktop/brain stroke/archive (4)/Brain_Data_Organised/Stroke/\" + img_file)\n",
    "    image = image.resize((224,224))\n",
    "    image = image.convert('RGB')\n",
    "    image = np.array(image)\n",
    "    data.append(image)"
   ]
  },
  {
   "cell_type": "code",
   "execution_count": 8,
   "id": "15076007",
   "metadata": {
    "execution": {
     "iopub.execute_input": "2023-10-15T08:46:56.297207Z",
     "iopub.status.busy": "2023-10-15T08:46:56.296820Z",
     "iopub.status.idle": "2023-10-15T08:46:56.304904Z",
     "shell.execute_reply": "2023-10-15T08:46:56.303728Z"
    },
    "papermill": {
     "duration": 0.02031,
     "end_time": "2023-10-15T08:46:56.307288",
     "exception": false,
     "start_time": "2023-10-15T08:46:56.286978",
     "status": "completed"
    },
    "tags": []
   },
   "outputs": [
    {
     "data": {
      "text/plain": [
       "2501"
      ]
     },
     "execution_count": 8,
     "metadata": {},
     "output_type": "execute_result"
    }
   ],
   "source": [
    "len(data)"
   ]
  },
  {
   "cell_type": "code",
   "execution_count": 9,
   "id": "1ca19cb2",
   "metadata": {
    "execution": {
     "iopub.execute_input": "2023-10-15T08:46:56.326661Z",
     "iopub.status.busy": "2023-10-15T08:46:56.326274Z",
     "iopub.status.idle": "2023-10-15T08:46:56.332707Z",
     "shell.execute_reply": "2023-10-15T08:46:56.331512Z"
    },
    "papermill": {
     "duration": 0.018804,
     "end_time": "2023-10-15T08:46:56.334768",
     "exception": false,
     "start_time": "2023-10-15T08:46:56.315964",
     "status": "completed"
    },
    "tags": []
   },
   "outputs": [
    {
     "data": {
      "text/plain": [
       "(224, 224, 3)"
      ]
     },
     "execution_count": 9,
     "metadata": {},
     "output_type": "execute_result"
    }
   ],
   "source": [
    "data[0].shape"
   ]
  },
  {
   "cell_type": "code",
   "execution_count": 10,
   "id": "e94196de",
   "metadata": {
    "execution": {
     "iopub.execute_input": "2023-10-15T08:46:56.354614Z",
     "iopub.status.busy": "2023-10-15T08:46:56.354277Z",
     "iopub.status.idle": "2023-10-15T08:46:56.361464Z",
     "shell.execute_reply": "2023-10-15T08:46:56.360127Z"
    },
    "papermill": {
     "duration": 0.020356,
     "end_time": "2023-10-15T08:46:56.363699",
     "exception": false,
     "start_time": "2023-10-15T08:46:56.343343",
     "status": "completed"
    },
    "tags": []
   },
   "outputs": [
    {
     "data": {
      "text/plain": [
       "array([[[0, 0, 0],\n",
       "        [0, 0, 0],\n",
       "        [0, 0, 0],\n",
       "        ...,\n",
       "        [0, 0, 0],\n",
       "        [0, 0, 0],\n",
       "        [0, 0, 0]],\n",
       "\n",
       "       [[0, 0, 0],\n",
       "        [0, 0, 0],\n",
       "        [0, 0, 0],\n",
       "        ...,\n",
       "        [0, 0, 0],\n",
       "        [0, 0, 0],\n",
       "        [0, 0, 0]],\n",
       "\n",
       "       [[0, 0, 0],\n",
       "        [0, 0, 0],\n",
       "        [0, 0, 0],\n",
       "        ...,\n",
       "        [0, 0, 0],\n",
       "        [0, 0, 0],\n",
       "        [0, 0, 0]],\n",
       "\n",
       "       ...,\n",
       "\n",
       "       [[0, 0, 0],\n",
       "        [0, 0, 0],\n",
       "        [0, 0, 0],\n",
       "        ...,\n",
       "        [6, 6, 6],\n",
       "        [2, 2, 2],\n",
       "        [0, 0, 0]],\n",
       "\n",
       "       [[0, 0, 0],\n",
       "        [0, 0, 0],\n",
       "        [0, 0, 0],\n",
       "        ...,\n",
       "        [3, 3, 3],\n",
       "        [2, 2, 2],\n",
       "        [0, 0, 0]],\n",
       "\n",
       "       [[0, 0, 0],\n",
       "        [0, 0, 0],\n",
       "        [0, 0, 0],\n",
       "        ...,\n",
       "        [1, 1, 1],\n",
       "        [0, 0, 0],\n",
       "        [0, 0, 0]]], dtype=uint8)"
      ]
     },
     "execution_count": 10,
     "metadata": {},
     "output_type": "execute_result"
    }
   ],
   "source": [
    "data[0]"
   ]
  },
  {
   "cell_type": "code",
   "execution_count": 11,
   "id": "b0b39473",
   "metadata": {
    "execution": {
     "iopub.execute_input": "2023-10-15T08:46:56.382845Z",
     "iopub.status.busy": "2023-10-15T08:46:56.382506Z",
     "iopub.status.idle": "2023-10-15T08:46:56.387209Z",
     "shell.execute_reply": "2023-10-15T08:46:56.386096Z"
    },
    "papermill": {
     "duration": 0.016624,
     "end_time": "2023-10-15T08:46:56.389115",
     "exception": false,
     "start_time": "2023-10-15T08:46:56.372491",
     "status": "completed"
    },
    "tags": []
   },
   "outputs": [],
   "source": [
    "normal_label = [0]*len(normal_folder)\n",
    "stroke_label = [1]*len(stroke_folder)"
   ]
  },
  {
   "cell_type": "code",
   "execution_count": 12,
   "id": "d1662e6a",
   "metadata": {
    "execution": {
     "iopub.execute_input": "2023-10-15T08:46:56.408394Z",
     "iopub.status.busy": "2023-10-15T08:46:56.407992Z",
     "iopub.status.idle": "2023-10-15T08:46:56.412753Z",
     "shell.execute_reply": "2023-10-15T08:46:56.411731Z"
    },
    "papermill": {
     "duration": 0.017191,
     "end_time": "2023-10-15T08:46:56.414876",
     "exception": false,
     "start_time": "2023-10-15T08:46:56.397685",
     "status": "completed"
    },
    "tags": []
   },
   "outputs": [],
   "source": [
    "Target_label = normal_label + stroke_label"
   ]
  },
  {
   "cell_type": "code",
   "execution_count": 13,
   "id": "72aa48fa",
   "metadata": {
    "execution": {
     "iopub.execute_input": "2023-10-15T08:46:56.435333Z",
     "iopub.status.busy": "2023-10-15T08:46:56.434928Z",
     "iopub.status.idle": "2023-10-15T08:46:56.442289Z",
     "shell.execute_reply": "2023-10-15T08:46:56.441150Z"
    },
    "papermill": {
     "duration": 0.020303,
     "end_time": "2023-10-15T08:46:56.444269",
     "exception": false,
     "start_time": "2023-10-15T08:46:56.423966",
     "status": "completed"
    },
    "tags": []
   },
   "outputs": [
    {
     "data": {
      "text/plain": [
       "2501"
      ]
     },
     "execution_count": 13,
     "metadata": {},
     "output_type": "execute_result"
    }
   ],
   "source": [
    "len(Target_label)"
   ]
  },
  {
   "cell_type": "code",
   "execution_count": 14,
   "id": "840f60f8",
   "metadata": {
    "execution": {
     "iopub.execute_input": "2023-10-15T08:46:56.464086Z",
     "iopub.status.busy": "2023-10-15T08:46:56.463697Z",
     "iopub.status.idle": "2023-10-15T08:46:56.716343Z",
     "shell.execute_reply": "2023-10-15T08:46:56.715163Z"
    },
    "papermill": {
     "duration": 0.266105,
     "end_time": "2023-10-15T08:46:56.719096",
     "exception": false,
     "start_time": "2023-10-15T08:46:56.452991",
     "status": "completed"
    },
    "tags": []
   },
   "outputs": [],
   "source": [
    "x = np.array(data)\n",
    "y = np.array(Target_label)"
   ]
  },
  {
   "cell_type": "code",
   "execution_count": 15,
   "id": "ff9439b0",
   "metadata": {
    "execution": {
     "iopub.execute_input": "2023-10-15T08:46:56.741003Z",
     "iopub.status.busy": "2023-10-15T08:46:56.740623Z",
     "iopub.status.idle": "2023-10-15T08:46:56.749370Z",
     "shell.execute_reply": "2023-10-15T08:46:56.747988Z"
    },
    "papermill": {
     "duration": 0.023016,
     "end_time": "2023-10-15T08:46:56.751812",
     "exception": false,
     "start_time": "2023-10-15T08:46:56.728796",
     "status": "completed"
    },
    "tags": []
   },
   "outputs": [
    {
     "data": {
      "text/plain": [
       "array([[[0, 0, 0],\n",
       "        [0, 0, 0],\n",
       "        [0, 0, 0],\n",
       "        ...,\n",
       "        [0, 0, 0],\n",
       "        [0, 0, 0],\n",
       "        [0, 0, 0]],\n",
       "\n",
       "       [[0, 0, 0],\n",
       "        [0, 0, 0],\n",
       "        [0, 0, 0],\n",
       "        ...,\n",
       "        [0, 0, 0],\n",
       "        [0, 0, 0],\n",
       "        [0, 0, 0]],\n",
       "\n",
       "       [[0, 0, 0],\n",
       "        [0, 0, 0],\n",
       "        [0, 0, 0],\n",
       "        ...,\n",
       "        [0, 0, 0],\n",
       "        [0, 0, 0],\n",
       "        [0, 0, 0]],\n",
       "\n",
       "       ...,\n",
       "\n",
       "       [[0, 0, 0],\n",
       "        [0, 0, 0],\n",
       "        [0, 0, 0],\n",
       "        ...,\n",
       "        [6, 6, 6],\n",
       "        [2, 2, 2],\n",
       "        [0, 0, 0]],\n",
       "\n",
       "       [[0, 0, 0],\n",
       "        [0, 0, 0],\n",
       "        [0, 0, 0],\n",
       "        ...,\n",
       "        [3, 3, 3],\n",
       "        [2, 2, 2],\n",
       "        [0, 0, 0]],\n",
       "\n",
       "       [[0, 0, 0],\n",
       "        [0, 0, 0],\n",
       "        [0, 0, 0],\n",
       "        ...,\n",
       "        [1, 1, 1],\n",
       "        [0, 0, 0],\n",
       "        [0, 0, 0]]], dtype=uint8)"
      ]
     },
     "execution_count": 15,
     "metadata": {},
     "output_type": "execute_result"
    }
   ],
   "source": [
    "x[0]"
   ]
  },
  {
   "cell_type": "code",
   "execution_count": 16,
   "id": "1a585ccb",
   "metadata": {
    "execution": {
     "iopub.execute_input": "2023-10-15T08:46:56.772927Z",
     "iopub.status.busy": "2023-10-15T08:46:56.772537Z",
     "iopub.status.idle": "2023-10-15T08:46:56.781770Z",
     "shell.execute_reply": "2023-10-15T08:46:56.780580Z"
    },
    "papermill": {
     "duration": 0.022419,
     "end_time": "2023-10-15T08:46:56.784169",
     "exception": false,
     "start_time": "2023-10-15T08:46:56.761750",
     "status": "completed"
    },
    "tags": []
   },
   "outputs": [
    {
     "data": {
      "text/plain": [
       "array([0, 0, 0, ..., 1, 1, 1])"
      ]
     },
     "execution_count": 16,
     "metadata": {},
     "output_type": "execute_result"
    }
   ],
   "source": [
    "y"
   ]
  },
  {
   "cell_type": "code",
   "execution_count": 17,
   "id": "bea635fa",
   "metadata": {
    "execution": {
     "iopub.execute_input": "2023-10-15T08:46:56.805233Z",
     "iopub.status.busy": "2023-10-15T08:46:56.804799Z",
     "iopub.status.idle": "2023-10-15T08:46:57.099767Z",
     "shell.execute_reply": "2023-10-15T08:46:57.098322Z"
    },
    "papermill": {
     "duration": 0.308157,
     "end_time": "2023-10-15T08:46:57.101984",
     "exception": false,
     "start_time": "2023-10-15T08:46:56.793827",
     "status": "completed"
    },
    "tags": []
   },
   "outputs": [
    {
     "name": "stdout",
     "output_type": "stream",
     "text": [
      "(2250, 224, 224, 3)\n",
      "(251, 224, 224, 3)\n",
      "(2250,)\n",
      "(251,)\n"
     ]
    }
   ],
   "source": [
    "x_train,x_test,y_train,y_test = train_test_split(x,y,test_size=0.10,shuffle=True)\n",
    "print(x_train.shape)\n",
    "print(x_test.shape)\n",
    "print(y_train.shape)\n",
    "print(y_test.shape)"
   ]
  },
  {
   "cell_type": "code",
   "execution_count": 18,
   "id": "3550d710",
   "metadata": {},
   "outputs": [],
   "source": [
    "x_train = np.array(x_train) / 255"
   ]
  },
  {
   "cell_type": "code",
   "execution_count": 19,
   "id": "25c9f3c8",
   "metadata": {},
   "outputs": [],
   "source": [
    "\n",
    "x_train.reshape(-1, 224, 224, 1)\n",
    "y_train = np.array(y_train)"
   ]
  },
  {
   "cell_type": "code",
   "execution_count": 20,
   "id": "9784f01b",
   "metadata": {},
   "outputs": [],
   "source": [
    "x_test=np.array(x_test)/255\n"
   ]
  },
  {
   "cell_type": "code",
   "execution_count": 21,
   "id": "72b0e29d",
   "metadata": {},
   "outputs": [],
   "source": [
    "x_test.reshape(-1, 224, 224, 1)\n",
    "y_test = np.array(y_test)"
   ]
  },
  {
   "cell_type": "code",
   "execution_count": 22,
   "id": "15e3acb7",
   "metadata": {},
   "outputs": [
    {
     "name": "stdout",
     "output_type": "stream",
     "text": [
      "x_train: (2250, 224, 224, 3)\n",
      "y_train: (2250,)\n",
      "x_test: (251, 224, 224, 3)\n",
      "y_test: (251,)\n"
     ]
    }
   ],
   "source": [
    "print(\"x_train:\",x_train.shape)\n",
    "print(\"y_train:\",y_train.shape)\n",
    "print(\"x_test:\",x_test.shape)\n",
    "print(\"y_test:\",y_test.shape)"
   ]
  },
  {
   "cell_type": "code",
   "execution_count": 23,
   "id": "b4eaf300",
   "metadata": {},
   "outputs": [],
   "source": [
    "x_train = np.array(x_train).reshape(2250,1,224,224, 3)\n"
   ]
  },
  {
   "cell_type": "code",
   "execution_count": 24,
   "id": "d87752a5",
   "metadata": {},
   "outputs": [],
   "source": [
    "x_test = np.array(x_test).reshape(251,1,224,224, 3)"
   ]
  },
  {
   "cell_type": "code",
   "execution_count": 25,
   "id": "88cfb1bd",
   "metadata": {},
   "outputs": [
    {
     "name": "stdout",
     "output_type": "stream",
     "text": [
      "x_train: (2250, 1, 224, 224, 3)\n",
      "y_train: (2250,)\n",
      "x_test: (251, 1, 224, 224, 3)\n",
      "y_test: (251,)\n"
     ]
    }
   ],
   "source": [
    "print(\"x_train:\",x_train.shape)\n",
    "print(\"y_train:\",y_train.shape)\n",
    "print(\"x_test:\",x_test.shape)\n",
    "print(\"y_test:\",y_test.shape)"
   ]
  },
  {
   "cell_type": "code",
   "execution_count": 26,
   "id": "acfe2296",
   "metadata": {},
   "outputs": [],
   "source": [
    "from keras.preprocessing.image import ImageDataGenerator\n",
    "from tensorflow.keras.optimizers import Adam\n",
    "from keras.layers import TimeDistributed, Conv2D, MaxPooling2D, Flatten, Dropout, Dense,LSTM"
   ]
  },
  {
   "cell_type": "code",
   "execution_count": 27,
   "id": "be87ce6b",
   "metadata": {
    "execution": {
     "iopub.execute_input": "2023-10-15T08:47:00.202262Z",
     "iopub.status.busy": "2023-10-15T08:47:00.200865Z",
     "iopub.status.idle": "2023-10-15T08:47:00.795414Z",
     "shell.execute_reply": "2023-10-15T08:47:00.793990Z"
    },
    "papermill": {
     "duration": 0.627938,
     "end_time": "2023-10-15T08:47:00.801174",
     "exception": false,
     "start_time": "2023-10-15T08:47:00.173236",
     "status": "completed"
    },
    "tags": []
   },
   "outputs": [],
   "source": [
    "model = Sequential()\n",
    "model.add(TimeDistributed(Conv2D(64,(3,3),activation='relu'),input_shape=(1,224,224,3)))\n",
    "model.add(TimeDistributed(MaxPooling2D(pool_size=(2,2))))\n",
    "\n",
    "model.add(TimeDistributed(Conv2D(32,(3,3),activation='relu')))\n",
    "#model_mix_shoulder.add(TimeDistributed(Conv2D(128,(3,3),activation='relu')))\n",
    "#model_mix_shoulder.add(TimeDistributed(Conv2D(56,(3,3),activation='relu')))\n",
    "model.add(TimeDistributed(MaxPooling2D(pool_size=(2,2))))\n",
    "\n",
    "#model_mix_shoulder.add(TimeDistributed(Conv2D(256,(3,3),activation='relu')))\n",
    "#model_mix_shoulder.add(TimeDistributed(MaxPooling2D(pool_size=(2,2))))\n",
    "\n",
    "\n",
    "model.add(TimeDistributed(Flatten()))\n",
    "\n",
    "#RNN\n",
    "model.add(LSTM(100,return_sequences=False))\n",
    "\n",
    "model.add(Dense(2,activation='softmax'))\n",
    "#model.add(activation('sigmoid'))\n",
    "\n",
    "#model.summary()"
   ]
  },
  {
   "cell_type": "code",
   "execution_count": 28,
   "id": "b3760da8",
   "metadata": {},
   "outputs": [],
   "source": [
    "model.compile(loss = 'sparse_categorical_crossentropy', optimizer = 'adam', metrics = ['accuracy'])"
   ]
  },
  {
   "cell_type": "code",
   "execution_count": 29,
   "id": "e728b84a",
   "metadata": {
    "execution": {
     "iopub.execute_input": "2023-10-15T08:47:00.855310Z",
     "iopub.status.busy": "2023-10-15T08:47:00.854780Z",
     "iopub.status.idle": "2023-10-15T09:18:25.041153Z",
     "shell.execute_reply": "2023-10-15T09:18:25.040116Z"
    },
    "papermill": {
     "duration": 1884.217433,
     "end_time": "2023-10-15T09:18:25.043915",
     "exception": false,
     "start_time": "2023-10-15T08:47:00.826482",
     "status": "completed"
    },
    "tags": []
   },
   "outputs": [
    {
     "name": "stdout",
     "output_type": "stream",
     "text": [
      "Epoch 1/4\n",
      "71/71 [==============================] - 160s 2s/step - loss: 0.5386 - accuracy: 0.7178 - val_loss: 0.2999 - val_accuracy: 0.8964\n",
      "Epoch 2/4\n",
      "71/71 [==============================] - 114s 2s/step - loss: 0.1306 - accuracy: 0.9458 - val_loss: 0.1446 - val_accuracy: 0.9363\n",
      "Epoch 3/4\n",
      "71/71 [==============================] - 115s 2s/step - loss: 0.0423 - accuracy: 0.9844 - val_loss: 0.1539 - val_accuracy: 0.9402\n",
      "Epoch 4/4\n",
      "71/71 [==============================] - 113s 2s/step - loss: 0.0187 - accuracy: 0.9951 - val_loss: 0.1406 - val_accuracy: 0.9522\n"
     ]
    }
   ],
   "source": [
    "history = model.fit(x_train,y_train,batch_size=32,\n",
    "         epochs=4, validation_data=(x_test,y_test))"
   ]
  },
  {
   "cell_type": "code",
   "execution_count": 34,
   "id": "0dccbc62",
   "metadata": {},
   "outputs": [],
   "source": [
    "model.save('strokes.h5')"
   ]
  },
  {
   "cell_type": "code",
   "execution_count": 35,
   "id": "141a5e98",
   "metadata": {},
   "outputs": [
    {
     "data": {
      "image/png": "[encoded data removed]",
      "text/plain": [
       "<Figure size 640x480 with 1 Axes>"
      ]
     },
     "metadata": {},
     "output_type": "display_data"
    }
   ],
   "source": [
    "\n",
    "\n",
    "history_dict = history.history\n",
    "\n",
    "loss_values = history_dict['loss']\n",
    "val_loss_values = history_dict['val_loss']\n",
    "epochs = range(1, len(loss_values) + 1)\n",
    "\n",
    "line1 = plt.plot(epochs, val_loss_values, label='Validation/Test Loss')\n",
    "line2 = plt.plot(epochs, loss_values, label='Training Loss')\n",
    "plt.setp(line1, linewidth=2.0, marker = '+', markersize=10.0)\n",
    "plt.setp(line2, linewidth=2.0, marker = '4', markersize=10.0)\n",
    "plt.xlabel('Epochs') \n",
    "plt.ylabel('Loss')\n",
    "plt.grid(True)\n",
    "plt.legend()\n",
    "plt.show()"
   ]
  },
  {
   "cell_type": "code",
   "execution_count": 36,
   "id": "ec347453",
   "metadata": {},
   "outputs": [
    {
     "data": {
      "image/png": "[encoded data removed]",
      "text/plain": [
       "<Figure size 640x480 with 1 Axes>"
      ]
     },
     "metadata": {},
     "output_type": "display_data"
    }
   ],
   "source": [
    "history_dict = history.history\n",
    "\n",
    "acc_values = history_dict['accuracy']\n",
    "val_acc_values = history_dict['val_accuracy']\n",
    "epochs = range(1, len(loss_values) + 1)\n",
    "\n",
    "line1 = plt.plot(epochs, val_acc_values, label='Validation/Test Accuracy')\n",
    "line2 = plt.plot(epochs, acc_values, label='Training Accuracy')\n",
    "plt.setp(line1, linewidth=2.0, marker = '+', markersize=10.0)\n",
    "plt.setp(line2, linewidth=2.0, marker = '4', markersize=10.0)\n",
    "plt.xlabel('Epochs') \n",
    "plt.ylabel('Accuracy')\n",
    "plt.grid(True)\n",
    "plt.legend()\n",
    "plt.show()"
   ]
  },
  {
   "cell_type": "code",
   "execution_count": 37,
   "id": "8f0ba9f3",
   "metadata": {},
   "outputs": [
    {
     "name": "stdout",
     "output_type": "stream",
     "text": [
      "8/8 [==============================] - 3s 356ms/step - loss: 0.1406 - accuracy: 0.9522\n",
      "Loss on Test Data: 0.14063818752765656\n",
      "Accuracy on Test Data: 0.9521912336349487\n",
      "71/71 [==============================] - 41s 336ms/step - loss: 0.0089 - accuracy: 0.9978\n",
      "Loss on Train Data: 0.00891716219484806\n",
      "Accuracy on Train Data: 0.9977777600288391\n"
     ]
    }
   ],
   "source": [
    "loss, acc = model.evaluate(x_test,y_test)\n",
    "print(\"Loss on Test Data:\",loss)\n",
    "print(\"Accuracy on Test Data:\",acc)\n",
    "\n",
    "loss, acc = model.evaluate(x_train,y_train)\n",
    "print(\"Loss on Train Data:\",loss)\n",
    "print(\"Accuracy on Train Data:\",acc)"
   ]
  },
  {
   "cell_type": "code",
   "execution_count": 38,
   "id": "e874f90e",
   "metadata": {},
   "outputs": [
    {
     "name": "stdout",
     "output_type": "stream",
     "text": [
      "8/8 [==============================] - 10s 324ms/step\n",
      "              precision    recall  f1-score   support\n",
      "\n",
      "      Normal       0.96      0.97      0.96       157\n",
      "      Stroke       0.95      0.93      0.94        94\n",
      "\n",
      "    accuracy                           0.95       251\n",
      "   macro avg       0.95      0.95      0.95       251\n",
      "weighted avg       0.95      0.95      0.95       251\n",
      "\n"
     ]
    }
   ],
   "source": [
    "predictions = model.predict(x_test)\n",
    "pred=np.argmax(predictions,axis=1)\n",
    "pred = pred.reshape(1,-1)[0]\n",
    "print(classification_report(y_test,pred, target_names = ['Normal','Stroke']))"
   ]
  },
  {
   "cell_type": "code",
   "execution_count": 40,
   "id": "96555cb5",
   "metadata": {},
   "outputs": [],
   "source": [
    "def plot_confusion_matrix(cm, classes,\n",
    "                          normalize=False,\n",
    "                          title='Confusion matrix',\n",
    "                          cmap=plt.cm.Blues):\n",
    "    \"\"\"\n",
    "    This function prints and plots the confusion matrix.\n",
    "    Normalization can be applied by setting `normalize=True`.\n",
    "    \"\"\"\n",
    "    plt.imshow(cm, interpolation='nearest', cmap=cmap)\n",
    "    plt.title(title)\n",
    "    plt.colorbar()\n",
    "    tick_marks = np.arange(len(classes))\n",
    "    plt.xticks(tick_marks, classes, rotation=45)\n",
    "    plt.yticks(tick_marks, classes)\n",
    "\n",
    "    if normalize:\n",
    "        cm = cm.astype('float') / cm.sum(axis=1)[:, np.newaxis]\n",
    "        print(\"Normalized confusion matrix\")\n",
    "    else:\n",
    "        print('Confusion matrix, without normalization')\n",
    "\n",
    "    print(cm)\n",
    "\n",
    "    thresh = cm.max() / 2.\n",
    "    for i, j in itertools.product(range(cm.shape[0]), range(cm.shape[1])):\n",
    "        plt.text(j, i, cm[i, j],\n",
    "            horizontalalignment=\"center\",\n",
    "            color=\"white\" if cm[i, j] > thresh else \"black\")\n",
    "\n",
    "    plt.tight_layout()\n",
    "    plt.ylabel('True label')\n",
    "    plt.xlabel('Predicted label')"
   ]
  },
  {
   "cell_type": "code",
   "execution_count": 41,
   "id": "51687ba8",
   "metadata": {},
   "outputs": [],
   "source": [
    "from sklearn.metrics import confusion_matrix\n",
    "import itertools\n",
    "import matplotlib.pyplot as plt\n",
    "cm = confusion_matrix(y_true=y_test, y_pred=pred)"
   ]
  },
  {
   "cell_type": "code",
   "execution_count": 42,
   "id": "2ff34133",
   "metadata": {},
   "outputs": [],
   "source": [
    "cm_plot_labels = ['Normal','Stroke']"
   ]
  },
  {
   "cell_type": "code",
   "execution_count": 43,
   "id": "6b557df3",
   "metadata": {},
   "outputs": [
    {
     "name": "stdout",
     "output_type": "stream",
     "text": [
      "Confusion matrix, without normalization\n",
      "[[152   5]\n",
      " [  7  87]]\n"
     ]
    },
    {
     "data": {
      "image/png": "[encoded data removed]",
      "text/plain": [
       "<Figure size 640x480 with 2 Axes>"
      ]
     },
     "metadata": {},
     "output_type": "display_data"
    }
   ],
   "source": [
    "plot_confusion_matrix(cm=cm, classes=cm_plot_labels, title='Confusion Matrix')\n",
    " "
   ]
  },
  {
   "cell_type": "code",
   "execution_count": 44,
   "id": "43fce627",
   "metadata": {},
   "outputs": [
    {
     "name": "stdout",
     "output_type": "stream",
     "text": [
      "Accuracy: 0.952\n",
      "Precision: 0.946\n",
      "Recall: 0.952\n",
      "F-Measure: 0.952\n"
     ]
    }
   ],
   "source": [
    "from sklearn.metrics import accuracy_score\n",
    "acc=accuracy_score(y_test,pred) \n",
    "print('Accuracy: %.3f' % acc)\n",
    "from sklearn.metrics import precision_score\n",
    "precision = precision_score(y_test,pred,labels=[1,2], average='micro')\n",
    "print('Precision: %.3f' % precision)\n",
    "from sklearn.metrics import recall_score\n",
    "recall = recall_score(y_test,pred, average='micro')\n",
    "print('Recall: %.3f' % recall)\n",
    "from sklearn.metrics import f1_score\n",
    "score = f1_score(y_test,pred, average='micro')\n",
    "print('F-Measure: %.3f' % score)"
   ]
  },
  {
   "cell_type": "code",
   "execution_count": null,
   "id": "b67327d5",
   "metadata": {},
   "outputs": [],
   "source": [
    "\n",
    "\n",
    "\n",
    "\n",
    "\n",
    "\n"
   ]
  }
 ],
 "metadata": {
  "kernelspec": {
   "display_name": "Python 3 (ipykernel)",
   "language": "python",
   "name": "python3"
  },
  "language_info": {
   "codemirror_mode": {
    "name": "ipython",
    "version": 3
   },
   "file_extension": ".py",
   "mimetype": "text/x-python",
   "name": "python",
   "nbconvert_exporter": "python",
   "pygments_lexer": "ipython3",
   "version": "3.10.9"
  },
  "papermill": {
   "default_parameters": {},
   "duration": 2055.534594,
   "end_time": "2023-10-15T09:20:36.736637",
   "environment_variables": {},
   "exception": null,
   "input_path": "__notebook__.ipynb",
   "output_path": "__notebook__.ipynb",
   "parameters": {},
   "start_time": "2023-10-15T08:46:21.202043",
   "version": "2.4.0"
  }
 },
 "nbformat": 4,
 "nbformat_minor": 5
}
