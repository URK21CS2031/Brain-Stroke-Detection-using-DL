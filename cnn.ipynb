{
 "cells": [
  {
   "cell_type": "code",
   "execution_count": 1,
   "id": "71443ac8",
   "metadata": {
    "execution": {
     "iopub.execute_input": "2023-10-15T08:46:25.857652Z",
     "iopub.status.busy": "2023-10-15T08:46:25.857172Z",
     "iopub.status.idle": "2023-10-15T08:46:37.869617Z",
     "shell.execute_reply": "2023-10-15T08:46:37.868324Z"
    },
    "papermill": {
     "duration": 12.024598,
     "end_time": "2023-10-15T08:46:37.872169",
     "exception": false,
     "start_time": "2023-10-15T08:46:25.847571",
     "status": "completed"
    },
    "tags": []
   },
   "outputs": [],
   "source": [
    "\n",
    "\n",
    "import os\n",
    "import pandas as pd\n",
    "import numpy as np\n",
    "import matplotlib.pyplot as plt\n",
    "%matplotlib inline\n",
    "from sklearn.metrics import classification_report , confusion_matrix , accuracy_score\n",
    "from sklearn.model_selection import train_test_split\n",
    "\n",
    "import cv2\n",
    "#from google.colab.patches import cv2_imshow\n",
    "from PIL import Image \n",
    "import tensorflow as tf\n",
    "from tensorflow import keras\n",
    "from keras import Sequential\n",
    "from keras.layers import Input, Dense,Conv2D , MaxPooling2D, Flatten,BatchNormalization,Dropout\n",
    "from tensorflow.keras.preprocessing import image_dataset_from_directory\n"
   ]
  },
  {
   "cell_type": "code",
   "execution_count": 2,
   "id": "b00b4dec",
   "metadata": {
    "execution": {
     "iopub.execute_input": "2023-10-15T08:46:37.891429Z",
     "iopub.status.busy": "2023-10-15T08:46:37.890746Z",
     "iopub.status.idle": "2023-10-15T08:46:37.896666Z",
     "shell.execute_reply": "2023-10-15T08:46:37.895419Z"
    },
    "papermill": {
     "duration": 0.018571,
     "end_time": "2023-10-15T08:46:37.899348",
     "exception": false,
     "start_time": "2023-10-15T08:46:37.880777",
     "status": "completed"
    },
    "tags": []
   },
   "outputs": [],
   "source": [
    "normal_path = \"C:/Users/DELL/Desktop/brain stroke/archive (4)/Brain_Data_Organised/Normal\"\n",
    "stroke_path = \"C:/Users/DELL/Desktop/brain stroke/archive (4)/Brain_Data_Organised/Stroke\""
   ]
  },
  {
   "cell_type": "code",
   "execution_count": 3,
   "id": "48f1f4e6",
   "metadata": {
    "execution": {
     "iopub.execute_input": "2023-10-15T08:46:37.918917Z",
     "iopub.status.busy": "2023-10-15T08:46:37.918531Z",
     "iopub.status.idle": "2023-10-15T08:46:37.931462Z",
     "shell.execute_reply": "2023-10-15T08:46:37.930281Z"
    },
    "papermill": {
     "duration": 0.025189,
     "end_time": "2023-10-15T08:46:37.933775",
     "exception": false,
     "start_time": "2023-10-15T08:46:37.908586",
     "status": "completed"
    },
    "tags": []
   },
   "outputs": [],
   "source": [
    "normal_folder = os.listdir(normal_path)\n",
    "stroke_folder = os.listdir(stroke_path)"
   ]
  },
  {
   "cell_type": "code",
   "execution_count": 4,
   "id": "015988dc",
   "metadata": {
    "execution": {
     "iopub.execute_input": "2023-10-15T08:46:37.952254Z",
     "iopub.status.busy": "2023-10-15T08:46:37.951840Z",
     "iopub.status.idle": "2023-10-15T08:46:37.956338Z",
     "shell.execute_reply": "2023-10-15T08:46:37.955399Z"
    },
    "papermill": {
     "duration": 0.016737,
     "end_time": "2023-10-15T08:46:37.958830",
     "exception": false,
     "start_time": "2023-10-15T08:46:37.942093",
     "status": "completed"
    },
    "tags": []
   },
   "outputs": [
    {
     "name": "stdout",
     "output_type": "stream",
     "text": [
      "Images in Normal Data: 1551\n",
      "Images in Stroke Data: 950\n"
     ]
    }
   ],
   "source": [
    "print(\"Images in Normal Data:\",len(normal_folder))\n",
    "print(\"Images in Stroke Data:\",len(stroke_folder))"
   ]
  },
  {
   "cell_type": "code",
   "execution_count": 5,
   "id": "d8fcbc28",
   "metadata": {
    "execution": {
     "iopub.execute_input": "2023-10-15T08:46:37.978248Z",
     "iopub.status.busy": "2023-10-15T08:46:37.977592Z",
     "iopub.status.idle": "2023-10-15T08:46:56.275435Z",
     "shell.execute_reply": "2023-10-15T08:46:56.274010Z"
    },
    "papermill": {
     "duration": 18.31066,
     "end_time": "2023-10-15T08:46:56.278118",
     "exception": false,
     "start_time": "2023-10-15T08:46:37.967458",
     "status": "completed"
    },
    "tags": []
   },
   "outputs": [],
   "source": [
    "normal_path = \"C:/Users/DELL/Desktop/brain stroke/archive (4)/Brain_Data_Organised/Normal\"\n",
    "stroke_path = \"C:/Users/DELL/Desktop/brain stroke/archive (4)/Brain_Data_Organised/Stroke\"\n",
    "\n",
    "data = []\n",
    "\n",
    "for img_file in normal_folder:\n",
    "    image = Image.open(\"C:/Users/DELL/Desktop/brain stroke/archive (4)/Brain_Data_Organised/Normal/\" + img_file)\n",
    "    image = image.resize((224,224))\n",
    "    image = image.convert('RGB')\n",
    "    image = np.array(image)\n",
    "    data.append(image)\n",
    "    \n",
    "for img_file in stroke_folder:\n",
    "    image = Image.open(\"C:/Users/DELL/Desktop/brain stroke/archive (4)/Brain_Data_Organised/Stroke/\" + img_file)\n",
    "    image = image.resize((224,224))\n",
    "    image = image.convert('RGB')\n",
    "    image = np.array(image)\n",
    "    data.append(image)"
   ]
  },
  {
   "cell_type": "code",
   "execution_count": 6,
   "id": "15076007",
   "metadata": {
    "execution": {
     "iopub.execute_input": "2023-10-15T08:46:56.297207Z",
     "iopub.status.busy": "2023-10-15T08:46:56.296820Z",
     "iopub.status.idle": "2023-10-15T08:46:56.304904Z",
     "shell.execute_reply": "2023-10-15T08:46:56.303728Z"
    },
    "papermill": {
     "duration": 0.02031,
     "end_time": "2023-10-15T08:46:56.307288",
     "exception": false,
     "start_time": "2023-10-15T08:46:56.286978",
     "status": "completed"
    },
    "tags": []
   },
   "outputs": [
    {
     "data": {
      "text/plain": [
       "2501"
      ]
     },
     "execution_count": 6,
     "metadata": {},
     "output_type": "execute_result"
    }
   ],
   "source": [
    "len(data)"
   ]
  },
  {
   "cell_type": "code",
   "execution_count": 7,
   "id": "1ca19cb2",
   "metadata": {
    "execution": {
     "iopub.execute_input": "2023-10-15T08:46:56.326661Z",
     "iopub.status.busy": "2023-10-15T08:46:56.326274Z",
     "iopub.status.idle": "2023-10-15T08:46:56.332707Z",
     "shell.execute_reply": "2023-10-15T08:46:56.331512Z"
    },
    "papermill": {
     "duration": 0.018804,
     "end_time": "2023-10-15T08:46:56.334768",
     "exception": false,
     "start_time": "2023-10-15T08:46:56.315964",
     "status": "completed"
    },
    "tags": []
   },
   "outputs": [
    {
     "data": {
      "text/plain": [
       "(224, 224, 3)"
      ]
     },
     "execution_count": 7,
     "metadata": {},
     "output_type": "execute_result"
    }
   ],
   "source": [
    "data[0].shape"
   ]
  },
  {
   "cell_type": "code",
   "execution_count": 8,
   "id": "e94196de",
   "metadata": {
    "execution": {
     "iopub.execute_input": "2023-10-15T08:46:56.354614Z",
     "iopub.status.busy": "2023-10-15T08:46:56.354277Z",
     "iopub.status.idle": "2023-10-15T08:46:56.361464Z",
     "shell.execute_reply": "2023-10-15T08:46:56.360127Z"
    },
    "papermill": {
     "duration": 0.020356,
     "end_time": "2023-10-15T08:46:56.363699",
     "exception": false,
     "start_time": "2023-10-15T08:46:56.343343",
     "status": "completed"
    },
    "tags": []
   },
   "outputs": [
    {
     "data": {
      "text/plain": [
       "array([[[0, 0, 0],\n",
       "        [0, 0, 0],\n",
       "        [0, 0, 0],\n",
       "        ...,\n",
       "        [0, 0, 0],\n",
       "        [0, 0, 0],\n",
       "        [0, 0, 0]],\n",
       "\n",
       "       [[0, 0, 0],\n",
       "        [0, 0, 0],\n",
       "        [0, 0, 0],\n",
       "        ...,\n",
       "        [0, 0, 0],\n",
       "        [0, 0, 0],\n",
       "        [0, 0, 0]],\n",
       "\n",
       "       [[0, 0, 0],\n",
       "        [0, 0, 0],\n",
       "        [0, 0, 0],\n",
       "        ...,\n",
       "        [0, 0, 0],\n",
       "        [0, 0, 0],\n",
       "        [0, 0, 0]],\n",
       "\n",
       "       ...,\n",
       "\n",
       "       [[0, 0, 0],\n",
       "        [0, 0, 0],\n",
       "        [0, 0, 0],\n",
       "        ...,\n",
       "        [6, 6, 6],\n",
       "        [2, 2, 2],\n",
       "        [0, 0, 0]],\n",
       "\n",
       "       [[0, 0, 0],\n",
       "        [0, 0, 0],\n",
       "        [0, 0, 0],\n",
       "        ...,\n",
       "        [3, 3, 3],\n",
       "        [2, 2, 2],\n",
       "        [0, 0, 0]],\n",
       "\n",
       "       [[0, 0, 0],\n",
       "        [0, 0, 0],\n",
       "        [0, 0, 0],\n",
       "        ...,\n",
       "        [1, 1, 1],\n",
       "        [0, 0, 0],\n",
       "        [0, 0, 0]]], dtype=uint8)"
      ]
     },
     "execution_count": 8,
     "metadata": {},
     "output_type": "execute_result"
    }
   ],
   "source": [
    "data[0]"
   ]
  },
  {
   "cell_type": "code",
   "execution_count": 9,
   "id": "b0b39473",
   "metadata": {
    "execution": {
     "iopub.execute_input": "2023-10-15T08:46:56.382845Z",
     "iopub.status.busy": "2023-10-15T08:46:56.382506Z",
     "iopub.status.idle": "2023-10-15T08:46:56.387209Z",
     "shell.execute_reply": "2023-10-15T08:46:56.386096Z"
    },
    "papermill": {
     "duration": 0.016624,
     "end_time": "2023-10-15T08:46:56.389115",
     "exception": false,
     "start_time": "2023-10-15T08:46:56.372491",
     "status": "completed"
    },
    "tags": []
   },
   "outputs": [],
   "source": [
    "normal_label = [0]*len(normal_folder)\n",
    "stroke_label = [1]*len(stroke_folder)"
   ]
  },
  {
   "cell_type": "code",
   "execution_count": 10,
   "id": "d1662e6a",
   "metadata": {
    "execution": {
     "iopub.execute_input": "2023-10-15T08:46:56.408394Z",
     "iopub.status.busy": "2023-10-15T08:46:56.407992Z",
     "iopub.status.idle": "2023-10-15T08:46:56.412753Z",
     "shell.execute_reply": "2023-10-15T08:46:56.411731Z"
    },
    "papermill": {
     "duration": 0.017191,
     "end_time": "2023-10-15T08:46:56.414876",
     "exception": false,
     "start_time": "2023-10-15T08:46:56.397685",
     "status": "completed"
    },
    "tags": []
   },
   "outputs": [],
   "source": [
    "Target_label = normal_label + stroke_label"
   ]
  },
  {
   "cell_type": "code",
   "execution_count": 11,
   "id": "72aa48fa",
   "metadata": {
    "execution": {
     "iopub.execute_input": "2023-10-15T08:46:56.435333Z",
     "iopub.status.busy": "2023-10-15T08:46:56.434928Z",
     "iopub.status.idle": "2023-10-15T08:46:56.442289Z",
     "shell.execute_reply": "2023-10-15T08:46:56.441150Z"
    },
    "papermill": {
     "duration": 0.020303,
     "end_time": "2023-10-15T08:46:56.444269",
     "exception": false,
     "start_time": "2023-10-15T08:46:56.423966",
     "status": "completed"
    },
    "tags": []
   },
   "outputs": [
    {
     "data": {
      "text/plain": [
       "2501"
      ]
     },
     "execution_count": 11,
     "metadata": {},
     "output_type": "execute_result"
    }
   ],
   "source": [
    "len(Target_label)"
   ]
  },
  {
   "cell_type": "code",
   "execution_count": 12,
   "id": "840f60f8",
   "metadata": {
    "execution": {
     "iopub.execute_input": "2023-10-15T08:46:56.464086Z",
     "iopub.status.busy": "2023-10-15T08:46:56.463697Z",
     "iopub.status.idle": "2023-10-15T08:46:56.716343Z",
     "shell.execute_reply": "2023-10-15T08:46:56.715163Z"
    },
    "papermill": {
     "duration": 0.266105,
     "end_time": "2023-10-15T08:46:56.719096",
     "exception": false,
     "start_time": "2023-10-15T08:46:56.452991",
     "status": "completed"
    },
    "tags": []
   },
   "outputs": [],
   "source": [
    "x = np.array(data)\n",
    "y = np.array(Target_label)"
   ]
  },
  {
   "cell_type": "code",
   "execution_count": 13,
   "id": "ff9439b0",
   "metadata": {
    "execution": {
     "iopub.execute_input": "2023-10-15T08:46:56.741003Z",
     "iopub.status.busy": "2023-10-15T08:46:56.740623Z",
     "iopub.status.idle": "2023-10-15T08:46:56.749370Z",
     "shell.execute_reply": "2023-10-15T08:46:56.747988Z"
    },
    "papermill": {
     "duration": 0.023016,
     "end_time": "2023-10-15T08:46:56.751812",
     "exception": false,
     "start_time": "2023-10-15T08:46:56.728796",
     "status": "completed"
    },
    "tags": []
   },
   "outputs": [
    {
     "data": {
      "text/plain": [
       "array([[[0, 0, 0],\n",
       "        [0, 0, 0],\n",
       "        [0, 0, 0],\n",
       "        ...,\n",
       "        [0, 0, 0],\n",
       "        [0, 0, 0],\n",
       "        [0, 0, 0]],\n",
       "\n",
       "       [[0, 0, 0],\n",
       "        [0, 0, 0],\n",
       "        [0, 0, 0],\n",
       "        ...,\n",
       "        [0, 0, 0],\n",
       "        [0, 0, 0],\n",
       "        [0, 0, 0]],\n",
       "\n",
       "       [[0, 0, 0],\n",
       "        [0, 0, 0],\n",
       "        [0, 0, 0],\n",
       "        ...,\n",
       "        [0, 0, 0],\n",
       "        [0, 0, 0],\n",
       "        [0, 0, 0]],\n",
       "\n",
       "       ...,\n",
       "\n",
       "       [[0, 0, 0],\n",
       "        [0, 0, 0],\n",
       "        [0, 0, 0],\n",
       "        ...,\n",
       "        [6, 6, 6],\n",
       "        [2, 2, 2],\n",
       "        [0, 0, 0]],\n",
       "\n",
       "       [[0, 0, 0],\n",
       "        [0, 0, 0],\n",
       "        [0, 0, 0],\n",
       "        ...,\n",
       "        [3, 3, 3],\n",
       "        [2, 2, 2],\n",
       "        [0, 0, 0]],\n",
       "\n",
       "       [[0, 0, 0],\n",
       "        [0, 0, 0],\n",
       "        [0, 0, 0],\n",
       "        ...,\n",
       "        [1, 1, 1],\n",
       "        [0, 0, 0],\n",
       "        [0, 0, 0]]], dtype=uint8)"
      ]
     },
     "execution_count": 13,
     "metadata": {},
     "output_type": "execute_result"
    }
   ],
   "source": [
    "x[0]"
   ]
  },
  {
   "cell_type": "code",
   "execution_count": 14,
   "id": "1a585ccb",
   "metadata": {
    "execution": {
     "iopub.execute_input": "2023-10-15T08:46:56.772927Z",
     "iopub.status.busy": "2023-10-15T08:46:56.772537Z",
     "iopub.status.idle": "2023-10-15T08:46:56.781770Z",
     "shell.execute_reply": "2023-10-15T08:46:56.780580Z"
    },
    "papermill": {
     "duration": 0.022419,
     "end_time": "2023-10-15T08:46:56.784169",
     "exception": false,
     "start_time": "2023-10-15T08:46:56.761750",
     "status": "completed"
    },
    "tags": []
   },
   "outputs": [
    {
     "data": {
      "text/plain": [
       "array([0, 0, 0, ..., 1, 1, 1])"
      ]
     },
     "execution_count": 14,
     "metadata": {},
     "output_type": "execute_result"
    }
   ],
   "source": [
    "y"
   ]
  },
  {
   "cell_type": "code",
   "execution_count": 15,
   "id": "bea635fa",
   "metadata": {
    "execution": {
     "iopub.execute_input": "2023-10-15T08:46:56.805233Z",
     "iopub.status.busy": "2023-10-15T08:46:56.804799Z",
     "iopub.status.idle": "2023-10-15T08:46:57.099767Z",
     "shell.execute_reply": "2023-10-15T08:46:57.098322Z"
    },
    "papermill": {
     "duration": 0.308157,
     "end_time": "2023-10-15T08:46:57.101984",
     "exception": false,
     "start_time": "2023-10-15T08:46:56.793827",
     "status": "completed"
    },
    "tags": []
   },
   "outputs": [
    {
     "name": "stdout",
     "output_type": "stream",
     "text": [
      "(2250, 224, 224, 3)\n",
      "(251, 224, 224, 3)\n",
      "(2250,)\n",
      "(251,)\n"
     ]
    }
   ],
   "source": [
    "x_train,x_test,y_train,y_test = train_test_split(x,y,test_size=0.10,shuffle=True)\n",
    "print(x_train.shape)\n",
    "print(x_test.shape)\n",
    "print(y_train.shape)\n",
    "print(y_test.shape)"
   ]
  },
  {
   "cell_type": "code",
   "execution_count": 16,
   "id": "08923042",
   "metadata": {},
   "outputs": [],
   "source": [
    "x_train = np.array(x_train) / 255"
   ]
  },
  {
   "cell_type": "code",
   "execution_count": 17,
   "id": "b207c9c6",
   "metadata": {},
   "outputs": [],
   "source": [
    "x_test=np.array(x_test)/255\n"
   ]
  },
  {
   "cell_type": "code",
   "execution_count": 18,
   "id": "6b67e560",
   "metadata": {},
   "outputs": [
    {
     "name": "stdout",
     "output_type": "stream",
     "text": [
      "x_train: (2250, 224, 224, 3)\n",
      "y_train: (2250,)\n",
      "x_test: (251, 224, 224, 3)\n",
      "y_test: (251,)\n"
     ]
    }
   ],
   "source": [
    "print(\"x_train:\",x_train.shape)\n",
    "print(\"y_train:\",y_train.shape)\n",
    "print(\"x_test:\",x_test.shape)\n",
    "print(\"y_test:\",y_test.shape)"
   ]
  },
  {
   "cell_type": "code",
   "execution_count": 19,
   "id": "bb4e5a88",
   "metadata": {},
   "outputs": [],
   "source": [
    "x_train = np.array(x_train).reshape(2250,224,224, 3)\n"
   ]
  },
  {
   "cell_type": "code",
   "execution_count": 20,
   "id": "d6488fb4",
   "metadata": {},
   "outputs": [],
   "source": [
    "x_test = np.array(x_test).reshape(251,224,224, 3)"
   ]
  },
  {
   "cell_type": "code",
   "execution_count": 21,
   "id": "3e793984",
   "metadata": {},
   "outputs": [
    {
     "name": "stdout",
     "output_type": "stream",
     "text": [
      "x_train: (2250, 224, 224, 3)\n",
      "y_train: (2250,)\n",
      "x_test: (251, 224, 224, 3)\n",
      "y_test: (251,)\n"
     ]
    }
   ],
   "source": [
    "print(\"x_train:\",x_train.shape)\n",
    "print(\"y_train:\",y_train.shape)\n",
    "print(\"x_test:\",x_test.shape)\n",
    "print(\"y_test:\",y_test.shape)"
   ]
  },
  {
   "cell_type": "code",
   "execution_count": 22,
   "id": "be87ce6b",
   "metadata": {
    "execution": {
     "iopub.execute_input": "2023-10-15T08:47:00.202262Z",
     "iopub.status.busy": "2023-10-15T08:47:00.200865Z",
     "iopub.status.idle": "2023-10-15T08:47:00.795414Z",
     "shell.execute_reply": "2023-10-15T08:47:00.793990Z"
    },
    "papermill": {
     "duration": 0.627938,
     "end_time": "2023-10-15T08:47:00.801174",
     "exception": false,
     "start_time": "2023-10-15T08:47:00.173236",
     "status": "completed"
    },
    "tags": []
   },
   "outputs": [
    {
     "name": "stdout",
     "output_type": "stream",
     "text": [
      "Model: \"sequential\"\n",
      "_________________________________________________________________\n",
      " Layer (type)                Output Shape              Param #   \n",
      "=================================================================\n",
      " conv2d (Conv2D)             (None, 222, 222, 100)     2800      \n",
      "                                                                 \n",
      " max_pooling2d (MaxPooling2  (None, 111, 111, 100)     0         \n",
      " D)                                                              \n",
      "                                                                 \n",
      " conv2d_1 (Conv2D)           (None, 109, 109, 80)      72080     \n",
      "                                                                 \n",
      " max_pooling2d_1 (MaxPoolin  (None, 54, 54, 80)        0         \n",
      " g2D)                                                            \n",
      "                                                                 \n",
      " conv2d_2 (Conv2D)           (None, 52, 52, 64)        46144     \n",
      "                                                                 \n",
      " max_pooling2d_2 (MaxPoolin  (None, 26, 26, 64)        0         \n",
      " g2D)                                                            \n",
      "                                                                 \n",
      " flatten (Flatten)           (None, 43264)             0         \n",
      "                                                                 \n",
      " dense (Dense)               (None, 500)               21632500  \n",
      "                                                                 \n",
      " dropout (Dropout)           (None, 500)               0         \n",
      "                                                                 \n",
      " dense_1 (Dense)             (None, 500)               250500    \n",
      "                                                                 \n",
      " dropout_1 (Dropout)         (None, 500)               0         \n",
      "                                                                 \n",
      " dense_2 (Dense)             (None, 2)                 1002      \n",
      "                                                                 \n",
      "=================================================================\n",
      "Total params: 22005026 (83.94 MB)\n",
      "Trainable params: 22005026 (83.94 MB)\n",
      "Non-trainable params: 0 (0.00 Byte)\n",
      "_________________________________________________________________\n"
     ]
    }
   ],
   "source": [
    "model = Sequential()\n",
    "\n",
    "model.add(Conv2D(filters=100,kernel_size=(3,3),strides=(1,1),padding=\"valid\",activation=\"relu\", input_shape=(224,224,3)))\n",
    "model.add(MaxPooling2D(pool_size=(2,2)))\n",
    "\n",
    "model.add(Conv2D(filters=80,kernel_size=(3,3),strides=(1,1),padding=\"valid\",activation=\"relu\"))\n",
    "model.add(MaxPooling2D(pool_size=(2,2)))\n",
    "\n",
    "model.add(Conv2D(filters=64,kernel_size=(3,3),strides=(1,1),padding=\"valid\",activation=\"relu\"))\n",
    "model.add(MaxPooling2D(pool_size=(2,2)))\n",
    "\n",
    "model.add(Flatten())\n",
    "model.add(Dense(units=500, activation=\"relu\"))\n",
    "model.add(Dropout(0.2))\n",
    "model.add(Dense(units=500, activation=\"relu\"))\n",
    "model.add(Dropout(0.2))\n",
    "model.add(Dense(units=2, activation=\"softmax\"))\n",
    "\n",
    "model.compile(loss = 'sparse_categorical_crossentropy', optimizer = 'adam', metrics = ['accuracy'])\n",
    "\n",
    "model.summary()"
   ]
  },
  {
   "cell_type": "code",
   "execution_count": 23,
   "id": "4506b83f",
   "metadata": {},
   "outputs": [],
   "source": [
    "from tensorflow.keras.callbacks import ModelCheckpoint, EarlyStopping,ReduceLROnPlateau\n",
    "from tensorflow.keras import layers, optimizers, losses, metrics, callbacks, initializers"
   ]
  },
  {
   "cell_type": "code",
   "execution_count": 24,
   "id": "bf3b8a7b",
   "metadata": {},
   "outputs": [],
   "source": [
    "# checkpoint = callbacks.ModelCheckpoint(\n",
    "#     filepath='stroke.h5',\n",
    "#     monitor='val_accuracy',\n",
    "#     verbose=1,\n",
    "#     save_best_only=True,\n",
    "#     mode = 'max')"
   ]
  },
  {
   "cell_type": "code",
   "execution_count": 25,
   "id": "e728b84a",
   "metadata": {
    "execution": {
     "iopub.execute_input": "2023-10-15T08:47:00.855310Z",
     "iopub.status.busy": "2023-10-15T08:47:00.854780Z",
     "iopub.status.idle": "2023-10-15T09:18:25.041153Z",
     "shell.execute_reply": "2023-10-15T09:18:25.040116Z"
    },
    "papermill": {
     "duration": 1884.217433,
     "end_time": "2023-10-15T09:18:25.043915",
     "exception": false,
     "start_time": "2023-10-15T08:47:00.826482",
     "status": "completed"
    },
    "tags": []
   },
   "outputs": [
    {
     "name": "stdout",
     "output_type": "stream",
     "text": [
      "Epoch 1/7\n",
      "71/71 [==============================] - 247s 3s/step - loss: 0.6294 - accuracy: 0.6756 - val_loss: 0.5072 - val_accuracy: 0.7331\n",
      "Epoch 2/7\n",
      "71/71 [==============================] - 200s 3s/step - loss: 0.2972 - accuracy: 0.8760 - val_loss: 0.1239 - val_accuracy: 0.9402\n",
      "Epoch 3/7\n",
      "71/71 [==============================] - 198s 3s/step - loss: 0.1081 - accuracy: 0.9538 - val_loss: 0.1182 - val_accuracy: 0.9562\n",
      "Epoch 4/7\n",
      "71/71 [==============================] - 195s 3s/step - loss: 0.0425 - accuracy: 0.9831 - val_loss: 0.0944 - val_accuracy: 0.9721\n",
      "Epoch 5/7\n",
      "71/71 [==============================] - 193s 3s/step - loss: 0.0387 - accuracy: 0.9853 - val_loss: 0.0628 - val_accuracy: 0.9761\n",
      "Epoch 6/7\n",
      "71/71 [==============================] - 193s 3s/step - loss: 0.0311 - accuracy: 0.9876 - val_loss: 0.1175 - val_accuracy: 0.9721\n",
      "Epoch 7/7\n",
      "71/71 [==============================] - 194s 3s/step - loss: 0.0073 - accuracy: 0.9964 - val_loss: 0.1172 - val_accuracy: 0.9801\n"
     ]
    }
   ],
   "source": [
    "history = model.fit(x_train,y_train,batch_size=32,\n",
    "         epochs=7, validation_data=(x_test,y_test))"
   ]
  },
  {
   "cell_type": "code",
   "execution_count": 26,
   "id": "0dccbc62",
   "metadata": {},
   "outputs": [
    {
     "name": "stderr",
     "output_type": "stream",
     "text": [
      "c:\\Users\\DELL\\AppData\\Local\\Programs\\Python\\Python310\\lib\\site-packages\\keras\\src\\engine\\training.py:3000: UserWarning: You are saving your model as an HDF5 file via `model.save()`. This file format is considered legacy. We recommend using instead the native Keras format, e.g. `model.save('my_model.keras')`.\n",
      "  saving_api.save_model(\n"
     ]
    }
   ],
   "source": [
    "model.save('stroke.h5')\n",
    "\n",
    "\n"
   ]
  },
  {
   "cell_type": "code",
   "execution_count": 27,
   "id": "141a5e98",
   "metadata": {},
   "outputs": [
    {
     "data": {
      "image/png": "[encoded data removed]",
      "text/plain": [
       "<Figure size 640x480 with 1 Axes>"
      ]
     },
     "metadata": {},
     "output_type": "display_data"
    }
   ],
   "source": [
    "\n",
    "\n",
    "history_dict = history.history\n",
    "\n",
    "loss_values = history_dict['loss']\n",
    "val_loss_values = history_dict['val_loss']\n",
    "epochs = range(1, len(loss_values) + 1)\n",
    "\n",
    "line1 = plt.plot(epochs, val_loss_values, label='Validation/Test Loss')\n",
    "line2 = plt.plot(epochs, loss_values, label='Training Loss')\n",
    "plt.setp(line1, linewidth=2.0, marker = '+', markersize=10.0)\n",
    "plt.setp(line2, linewidth=2.0, marker = '4', markersize=10.0)\n",
    "plt.xlabel('Epochs') \n",
    "plt.ylabel('Loss')\n",
    "plt.grid(True)\n",
    "plt.legend()\n",
    "plt.show()"
   ]
  },
  {
   "cell_type": "code",
   "execution_count": 28,
   "id": "ec347453",
   "metadata": {},
   "outputs": [
    {
     "data": {
      "image/png": "[encoded data removed]",
      "text/plain": [
       "<Figure size 640x480 with 1 Axes>"
      ]
     },
     "metadata": {},
     "output_type": "display_data"
    }
   ],
   "source": [
    "history_dict = history.history\n",
    "\n",
    "acc_values = history_dict['accuracy']\n",
    "val_acc_values = history_dict['val_accuracy']\n",
    "epochs = range(1, len(loss_values) + 1)\n",
    "\n",
    "line1 = plt.plot(epochs, val_acc_values, label='Validation/Test Accuracy')\n",
    "line2 = plt.plot(epochs, acc_values, label='Training Accuracy')\n",
    "plt.setp(line1, linewidth=2.0, marker = '+', markersize=10.0)\n",
    "plt.setp(line2, linewidth=2.0, marker = '4', markersize=10.0)\n",
    "plt.xlabel('Epochs') \n",
    "plt.ylabel('Accuracy')\n",
    "plt.grid(True)\n",
    "plt.legend()\n",
    "plt.show()"
   ]
  },
  {
   "cell_type": "code",
   "execution_count": 29,
   "id": "8f0ba9f3",
   "metadata": {},
   "outputs": [
    {
     "name": "stdout",
     "output_type": "stream",
     "text": [
      "8/8 [==============================] - 5s 605ms/step - loss: 0.1172 - accuracy: 0.9801\n",
      "Loss on Test Data: 0.11722218245267868\n",
      "Accuracy on Test Data: 0.980079710483551\n",
      "71/71 [==============================] - 53s 601ms/step - loss: 0.0017 - accuracy: 0.9996\n",
      "Loss on Train Data: 0.0017052748007699847\n",
      "Accuracy on Train Data: 0.9995555281639099\n"
     ]
    }
   ],
   "source": [
    "loss, acc = model.evaluate(x_test,y_test)\n",
    "print(\"Loss on Test Data:\",loss)\n",
    "print(\"Accuracy on Test Data:\",acc)\n",
    "\n",
    "loss, acc = model.evaluate(x_train,y_train)\n",
    "print(\"Loss on Train Data:\",loss)\n",
    "print(\"Accuracy on Train Data:\",acc)"
   ]
  },
  {
   "cell_type": "code",
   "execution_count": 34,
   "id": "e874f90e",
   "metadata": {},
   "outputs": [
    {
     "name": "stdout",
     "output_type": "stream",
     "text": [
      "8/8 [==============================] - 5s 609ms/step\n",
      "              precision    recall  f1-score   support\n",
      "\n",
      "      Normal       0.97      1.00      0.98       161\n",
      "      Stroke       1.00      0.94      0.97        90\n",
      "\n",
      "    accuracy                           0.98       251\n",
      "   macro avg       0.98      0.97      0.98       251\n",
      "weighted avg       0.98      0.98      0.98       251\n",
      "\n"
     ]
    }
   ],
   "source": [
    "predictions = model.predict(x_test)\n",
    "pred=np.argmax(predictions,axis=1)\n",
    "pred = pred.reshape(1,-1)[0]\n",
    "print(classification_report(y_test,pred, target_names = ['Normal','Stroke']))"
   ]
  },
  {
   "cell_type": "code",
   "execution_count": 36,
   "id": "96555cb5",
   "metadata": {},
   "outputs": [],
   "source": [
    "def plot_confusion_matrix(cm, classes,\n",
    "                          normalize=False,\n",
    "                          title='Confusion matrix',\n",
    "                          cmap=plt.cm.Blues):\n",
    "    \"\"\"\n",
    "    This function prints and plots the confusion matrix.\n",
    "    Normalization can be applied by setting `normalize=True`.\n",
    "    \"\"\"\n",
    "    plt.imshow(cm, interpolation='nearest', cmap=cmap)\n",
    "    plt.title(title)\n",
    "    plt.colorbar()\n",
    "    tick_marks = np.arange(len(classes))\n",
    "    plt.xticks(tick_marks, classes, rotation=45)\n",
    "    plt.yticks(tick_marks, classes)\n",
    "\n",
    "    if normalize:\n",
    "        cm = cm.astype('float') / cm.sum(axis=1)[:, np.newaxis]\n",
    "        print(\"Normalized confusion matrix\")\n",
    "    else:\n",
    "        print('Confusion matrix, without normalization')\n",
    "\n",
    "    print(cm)\n",
    "\n",
    "    thresh = cm.max() / 2.\n",
    "    for i, j in itertools.product(range(cm.shape[0]), range(cm.shape[1])):\n",
    "        plt.text(j, i, cm[i, j],\n",
    "            horizontalalignment=\"center\",\n",
    "            color=\"white\" if cm[i, j] > thresh else \"black\")\n",
    "\n",
    "    plt.tight_layout()\n",
    "    plt.ylabel('True label')\n",
    "    plt.xlabel('Predicted label')"
   ]
  },
  {
   "cell_type": "code",
   "execution_count": 38,
   "id": "51687ba8",
   "metadata": {},
   "outputs": [],
   "source": [
    "from sklearn.metrics import confusion_matrix\n",
    "import itertools\n",
    "import matplotlib.pyplot as plt\n",
    "cm = confusion_matrix(y_true=y_test, y_pred=pred)"
   ]
  },
  {
   "cell_type": "code",
   "execution_count": 39,
   "id": "2ff34133",
   "metadata": {},
   "outputs": [],
   "source": [
    "cm_plot_labels = ['Normal','Stroke']"
   ]
  },
  {
   "cell_type": "code",
   "execution_count": 40,
   "id": "6b557df3",
   "metadata": {},
   "outputs": [
    {
     "name": "stdout",
     "output_type": "stream",
     "text": [
      "Confusion matrix, without normalization\n",
      "[[161   0]\n",
      " [  5  85]]\n"
     ]
    },
    {
     "data": {
      "image/png": "[encoded data removed]",
      "text/plain": [
       "<Figure size 640x480 with 2 Axes>"
      ]
     },
     "metadata": {},
     "output_type": "display_data"
    }
   ],
   "source": [
    "plot_confusion_matrix(cm=cm, classes=cm_plot_labels, title='Confusion Matrix')\n",
    " "
   ]
  },
  {
   "cell_type": "code",
   "execution_count": 41,
   "id": "43fce627",
   "metadata": {},
   "outputs": [
    {
     "name": "stdout",
     "output_type": "stream",
     "text": [
      "Accuracy: 0.980\n",
      "Precision: 1.000\n",
      "Recall: 0.980\n",
      "F-Measure: 0.980\n"
     ]
    }
   ],
   "source": [
    "from sklearn.metrics import accuracy_score\n",
    "acc=accuracy_score(y_test,pred) \n",
    "print('Accuracy: %.3f' % acc)\n",
    "from sklearn.metrics import precision_score\n",
    "precision = precision_score(y_test,pred,labels=[1,2], average='micro')\n",
    "print('Precision: %.3f' % precision)\n",
    "from sklearn.metrics import recall_score\n",
    "recall = recall_score(y_test,pred, average='micro')\n",
    "print('Recall: %.3f' % recall)\n",
    "from sklearn.metrics import f1_score\n",
    "score = f1_score(y_test,pred, average='micro')\n",
    "print('F-Measure: %.3f' % score)"
   ]
  },
  {
   "cell_type": "code",
   "execution_count": null,
   "id": "b67327d5",
   "metadata": {},
   "outputs": [],
   "source": []
  }
 ],
 "metadata": {
  "kernelspec": {
   "display_name": "Python 3 (ipykernel)",
   "language": "python",
   "name": "python3"
  },
  "language_info": {
   "codemirror_mode": {
    "name": "ipython",
    "version": 3
   },
   "file_extension": ".py",
   "mimetype": "text/x-python",
   "name": "python",
   "nbconvert_exporter": "python",
   "pygments_lexer": "ipython3",
   "version": "3.10.9"
  },
  "papermill": {
   "default_parameters": {},
   "duration": 2055.534594,
   "end_time": "2023-10-15T09:20:36.736637",
   "environment_variables": {},
   "exception": null,
   "input_path": "__notebook__.ipynb",
   "output_path": "__notebook__.ipynb",
   "parameters": {},
   "start_time": "2023-10-15T08:46:21.202043",
   "version": "2.4.0"
  }
 },
 "nbformat": 4,
 "nbformat_minor": 5
}
